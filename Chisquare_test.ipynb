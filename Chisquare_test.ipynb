{
 "cells": [
  {
   "cell_type": "markdown",
   "id": "8eec421b-aef4-43f7-ab24-47c3d093670c",
   "metadata": {},
   "source": [
    "# CHI-SQUARE TEST"
   ]
  },
  {
   "cell_type": "markdown",
   "id": "be744182-0f97-4039-8d55-a71ac7567af0",
   "metadata": {},
   "source": [
    "# 1.State the Hypothesis:\n",
    "The Chi-square test of independence is a hypothesis test so it has a null (H0) and an alternative hypothesis (H1):\n",
    "\n",
    "H0 : the variables are independent, there is no relationship between the two categorical variables. Knowing the value of one variable does not help to predict the value of the other variable.\n",
    "\n",
    "H1 : the variables are dependent, there is a relationship between the two categorical variables. Knowing the value of one variable helps to predict the value of the other variable."
   ]
  },
  {
   "cell_type": "markdown",
   "id": "39506882-0290-43c9-bc5b-b0cd2425c0f9",
   "metadata": {},
   "source": [
    "# 2.Compute the chi-square stastic:"
   ]
  },
  {
   "cell_type": "code",
   "execution_count": 10,
   "id": "24f484d3-0b9a-40e6-b7bc-c376462fbdd3",
   "metadata": {},
   "outputs": [],
   "source": [
    "import pandas as pd\n",
    "import numpy as np\n",
    "import scipy.stats as stats\n",
    "from scipy.stats import chi2_contingency"
   ]
  },
  {
   "cell_type": "code",
   "execution_count": 12,
   "id": "fd57bff8-b11a-4b3e-8ba5-26bb87521093",
   "metadata": {},
   "outputs": [
    {
     "data": {
      "text/html": [
       "<div>\n",
       "<style scoped>\n",
       "    .dataframe tbody tr th:only-of-type {\n",
       "        vertical-align: middle;\n",
       "    }\n",
       "\n",
       "    .dataframe tbody tr th {\n",
       "        vertical-align: top;\n",
       "    }\n",
       "\n",
       "    .dataframe thead th {\n",
       "        text-align: right;\n",
       "    }\n",
       "</style>\n",
       "<table border=\"1\" class=\"dataframe\">\n",
       "  <thead>\n",
       "    <tr style=\"text-align: right;\">\n",
       "      <th></th>\n",
       "      <th>Satisfaction</th>\n",
       "      <th>Smart Thermostat</th>\n",
       "      <th>Smart Light</th>\n",
       "      <th>Total</th>\n",
       "    </tr>\n",
       "  </thead>\n",
       "  <tbody>\n",
       "    <tr>\n",
       "      <th>0</th>\n",
       "      <td>Very Satisfied</td>\n",
       "      <td>50</td>\n",
       "      <td>70</td>\n",
       "      <td>120</td>\n",
       "    </tr>\n",
       "    <tr>\n",
       "      <th>1</th>\n",
       "      <td>Satisfied</td>\n",
       "      <td>80</td>\n",
       "      <td>100</td>\n",
       "      <td>180</td>\n",
       "    </tr>\n",
       "    <tr>\n",
       "      <th>2</th>\n",
       "      <td>Neutral</td>\n",
       "      <td>60</td>\n",
       "      <td>90</td>\n",
       "      <td>150</td>\n",
       "    </tr>\n",
       "    <tr>\n",
       "      <th>3</th>\n",
       "      <td>Unsatisfied</td>\n",
       "      <td>30</td>\n",
       "      <td>50</td>\n",
       "      <td>80</td>\n",
       "    </tr>\n",
       "    <tr>\n",
       "      <th>4</th>\n",
       "      <td>Very Unsatisfied</td>\n",
       "      <td>20</td>\n",
       "      <td>50</td>\n",
       "      <td>70</td>\n",
       "    </tr>\n",
       "    <tr>\n",
       "      <th>5</th>\n",
       "      <td>Total</td>\n",
       "      <td>240</td>\n",
       "      <td>360</td>\n",
       "      <td>600</td>\n",
       "    </tr>\n",
       "  </tbody>\n",
       "</table>\n",
       "</div>"
      ],
      "text/plain": [
       "       Satisfaction  Smart Thermostat  Smart Light  Total\n",
       "0    Very Satisfied                50           70    120\n",
       "1         Satisfied                80          100    180\n",
       "2           Neutral                60           90    150\n",
       "3       Unsatisfied                30           50     80\n",
       "4  Very Unsatisfied                20           50     70\n",
       "5             Total               240          360    600"
      ]
     },
     "execution_count": 12,
     "metadata": {},
     "output_type": "execute_result"
    }
   ],
   "source": [
    "data={'Satisfaction': ['Very Satisfied','Satisfied','Neutral','Unsatisfied','Very Unsatisfied','Total'],\n",
    "    'Smart Thermostat': [50,80,60,30,20,240],\n",
    "    'Smart Light': [70,100,90,50,50,360],\n",
    "    'Total': [120,180,150,80,70,600]}\n",
    "\n",
    "contingency_table=pd.DataFrame(data)\n",
    "contingency_table"
   ]
  },
  {
   "cell_type": "code",
   "execution_count": 16,
   "id": "390fe3ba-923f-4c6a-a48d-ecde343446a6",
   "metadata": {},
   "outputs": [
    {
     "data": {
      "text/plain": [
       "array([[ 50,  70],\n",
       "       [ 80, 100],\n",
       "       [ 60,  90],\n",
       "       [ 30,  50],\n",
       "       [ 20,  50]])"
      ]
     },
     "execution_count": 16,
     "metadata": {},
     "output_type": "execute_result"
    }
   ],
   "source": [
    "observed=np.array([[50,70],\n",
    "                 [80,100],\n",
    "                 [60,90],\n",
    "                 [30,50],\n",
    "                 [20,50]])\n",
    "observed"
   ]
  },
  {
   "cell_type": "code",
   "execution_count": 18,
   "id": "85024d07-dc31-4239-9980-0ff2574d18be",
   "metadata": {},
   "outputs": [
    {
     "data": {
      "text/plain": [
       "Chi2ContingencyResult(statistic=5.638227513227513, pvalue=0.22784371130697179, dof=4, expected_freq=array([[ 48.,  72.],\n",
       "       [ 72., 108.],\n",
       "       [ 60.,  90.],\n",
       "       [ 32.,  48.],\n",
       "       [ 28.,  42.]]))"
      ]
     },
     "execution_count": 18,
     "metadata": {},
     "output_type": "execute_result"
    }
   ],
   "source": [
    "expected=chi2_contingency(observed)\n",
    "expected"
   ]
  },
  {
   "cell_type": "code",
   "execution_count": 20,
   "id": "4bdffdfd-032a-47b2-87e0-9d8019b3d86f",
   "metadata": {},
   "outputs": [
    {
     "data": {
      "text/plain": [
       "array([[ 48.,  72.],\n",
       "       [ 72., 108.],\n",
       "       [ 60.,  90.],\n",
       "       [ 32.,  48.],\n",
       "       [ 28.,  42.]])"
      ]
     },
     "execution_count": 20,
     "metadata": {},
     "output_type": "execute_result"
    }
   ],
   "source": [
    "expected = np.array([\n",
    "       [48.,  72.],\n",
    "       [ 72., 108.],\n",
    "       [ 60.,  90.],\n",
    "       [ 32.,  48.],\n",
    "       [ 28.,  42.]])\n",
    "expected"
   ]
  },
  {
   "cell_type": "code",
   "execution_count": 22,
   "id": "b3c1bf12-af34-48c9-bbc6-6cc28679d082",
   "metadata": {},
   "outputs": [
    {
     "data": {
      "text/plain": [
       "5.638227513227513"
      ]
     },
     "execution_count": 22,
     "metadata": {},
     "output_type": "execute_result"
    }
   ],
   "source": [
    "chi_squared_stats=(((observed-expected)**2)/expected).sum().sum()\n",
    "chi_squared_stats"
   ]
  },
  {
   "cell_type": "markdown",
   "id": "9be154d4-1e68-4362-ac15-c7ed5e8b3ab6",
   "metadata": {},
   "source": [
    "# 3.Determine the Critical value:"
   ]
  },
  {
   "cell_type": "markdown",
   "id": "1370cc62-1564-4cde-b33c-94b5046af2a4",
   "metadata": {},
   "source": [
    "Using the significance level(alpha) of 0.05 and the degrees of freedom(which is the number of categories minus 1)"
   ]
  },
  {
   "cell_type": "code",
   "execution_count": 29,
   "id": "4b3d0420-c33e-44be-b66a-c02a162715b9",
   "metadata": {},
   "outputs": [
    {
     "name": "stdout",
     "output_type": "stream",
     "text": [
      "Critical_value: 9.487729036781154\n"
     ]
    }
   ],
   "source": [
    "critical_value=stats.chi2.ppf(q=0.95, # find the crtical value of 95% confidence\n",
    "                              df=4)\n",
    "print('Critical_value:',critical_value)"
   ]
  },
  {
   "cell_type": "markdown",
   "id": "5c215236-7298-40b7-a1df-609f44172b6e",
   "metadata": {},
   "source": [
    "# 4.Make a decision"
   ]
  },
  {
   "cell_type": "markdown",
   "id": "30d3e90f-190b-4337-9cee-9985418b94d9",
   "metadata": {},
   "source": [
    "Compare the chi-square statistic with the critical value to decide whether to reject the null hypothesis."
   ]
  },
  {
   "cell_type": "code",
   "execution_count": 34,
   "id": "c5b2f54e-a3c8-4d31-ab61-d2d1e55ab143",
   "metadata": {},
   "outputs": [
    {
     "name": "stdout",
     "output_type": "stream",
     "text": [
      "Accept all the hypothesis\n"
     ]
    }
   ],
   "source": [
    "if chi_squared_stats>critical_value:\n",
    "    print(\"Reject all the hypothesis\")\n",
    "else:\n",
    "    print('Accept all the hypothesis')"
   ]
  }
 ],
 "metadata": {
  "kernelspec": {
   "display_name": "Python 3 (ipykernel)",
   "language": "python",
   "name": "python3"
  },
  "language_info": {
   "codemirror_mode": {
    "name": "ipython",
    "version": 3
   },
   "file_extension": ".py",
   "mimetype": "text/x-python",
   "name": "python",
   "nbconvert_exporter": "python",
   "pygments_lexer": "ipython3",
   "version": "3.12.4"
  }
 },
 "nbformat": 4,
 "nbformat_minor": 5
}

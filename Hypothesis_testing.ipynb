{
 "cells": [
  {
   "cell_type": "markdown",
   "id": "732592ee-ee31-40e4-91f4-e3091d01ea3e",
   "metadata": {},
   "source": [
    "# HYPOTHESIS TESTING"
   ]
  },
  {
   "cell_type": "markdown",
   "id": "24c4272b-9bf8-4ff8-b855-b64bc4725cd6",
   "metadata": {},
   "source": [
    "# 1. State the Hypotheses statement:\n",
    "\n",
    "Hypothesis testing is a statistical method that is used in making statistical decisions using experimental data.Hypothesis testing is basically an assumption that we make about the population parameter.\n",
    "\n",
    "--> Null Hypothesis(H0):Argument made so far,or hypothesis saying that there is no change or difference.\n",
    "\n",
    "--> Alternative Hypothesis(H1):New argument,that is a hypothesis that you want to prove with solid ground obtained from sample.\n"
   ]
  },
  {
   "cell_type": "markdown",
   "id": "e8f0a9a6-8638-4b19-a96b-5554ea36b1cc",
   "metadata": {},
   "source": [
    "# 2. Calculate the Test Statistic:"
   ]
  },
  {
   "cell_type": "code",
   "execution_count": 6,
   "id": "92d7bdd6-3320-42d3-8c4c-e48a47e0a131",
   "metadata": {},
   "outputs": [],
   "source": [
    "import numpy as np\n",
    "from scipy.stats import t"
   ]
  },
  {
   "cell_type": "code",
   "execution_count": 14,
   "id": "22dcb67e-bf5f-4e56-83b3-be996da86128",
   "metadata": {},
   "outputs": [
    {
     "data": {
      "text/plain": [
       "-38.0"
      ]
     },
     "execution_count": 14,
     "metadata": {},
     "output_type": "execute_result"
    }
   ],
   "source": [
    "x_bar = 3050\n",
    "mu = 1000+5*600\n",
    "sigma = 5*25\n",
    "n = 25\n",
    "\n",
    "t_statistic=(x_bar-mu)/(sigma/np.sqrt(n))\n",
    "t_statistic"
   ]
  },
  {
   "cell_type": "markdown",
   "id": "eebbecd2-31a8-4f3b-b646-ddce68817d38",
   "metadata": {},
   "source": [
    "where:\n",
    "\n",
    ". x_bar = sample mean weekly cost(Rs.3,050)\n",
    "\n",
    ". mu = theoretical mean weekly cost according to the cost model(w = 1000+5x for x = 600 units)\n",
    "\n",
    ". sigma = 5*25 units\n",
    "\n",
    ". n = sample size(25 restaurants)"
   ]
  },
  {
   "cell_type": "markdown",
   "id": "72cb3c25-cfac-4124-8661-0090a2c41fee",
   "metadata": {},
   "source": [
    "# Define the Critical Value"
   ]
  },
  {
   "cell_type": "markdown",
   "id": "1c9c2e26-226d-4b56-b3b2-e9751041191c",
   "metadata": {},
   "source": [
    "Using the alpha level of 5% (α = 0.05),determine the critical value from the standarad normal(Z) distribution table."
   ]
  },
  {
   "cell_type": "code",
   "execution_count": 19,
   "id": "40194421-2094-4892-828b-3e4361cc9c7e",
   "metadata": {},
   "outputs": [
    {
     "data": {
      "text/plain": [
       "1.7108820799094275"
      ]
     },
     "execution_count": 19,
     "metadata": {},
     "output_type": "execute_result"
    }
   ],
   "source": [
    "alpha = 0.05 #significance level\n",
    "df = n-1 # Degrees of freedom (df)=sample size - 1\n",
    "critical_value = t.ppf(1-alpha,df)\n",
    "critical_value"
   ]
  },
  {
   "cell_type": "markdown",
   "id": "47876da4-2429-4267-89ed-df2378a56ede",
   "metadata": {},
   "source": [
    "## 4. Make a decision"
   ]
  },
  {
   "cell_type": "code",
   "execution_count": 26,
   "id": "e03a05f0-f363-42ad-9033-f59c7ab02210",
   "metadata": {},
   "outputs": [
    {
     "name": "stdout",
     "output_type": "stream",
     "text": [
      "Accept all the hypothesis\n"
     ]
    }
   ],
   "source": [
    "if t_statistic > critical_value:\n",
    "    print('Reject all the hypothesis')\n",
    "else:\n",
    "    print(\"Accept all the hypothesis\")"
   ]
  },
  {
   "cell_type": "markdown",
   "id": "1deced50-818c-4c30-a717-400deacff136",
   "metadata": {},
   "source": [
    "# 5. Conclusion\n",
    "\n",
    "Based on the decision in step4,conclude whether there is strong evidence to support the restaurant owners claim that the weekly operating costs are higher than the model suggests.\n",
    "\n",
    "There is no enough evidence to support the claim that the weekly operating costs are higher than the model suggests."
   ]
  }
 ],
 "metadata": {
  "kernelspec": {
   "display_name": "Python 3 (ipykernel)",
   "language": "python",
   "name": "python3"
  },
  "language_info": {
   "codemirror_mode": {
    "name": "ipython",
    "version": 3
   },
   "file_extension": ".py",
   "mimetype": "text/x-python",
   "name": "python",
   "nbconvert_exporter": "python",
   "pygments_lexer": "ipython3",
   "version": "3.12.4"
  }
 },
 "nbformat": 4,
 "nbformat_minor": 5
}

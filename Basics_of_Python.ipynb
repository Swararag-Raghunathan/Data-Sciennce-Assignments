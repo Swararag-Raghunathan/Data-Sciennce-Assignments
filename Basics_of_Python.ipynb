{
 "cells": [
  {
   "cell_type": "markdown",
   "id": "1e69b3ad-cbb8-4b63-9b52-e092b51568c6",
   "metadata": {},
   "source": [
    "# Exercise 1: Prime Numbers"
   ]
  },
  {
   "cell_type": "markdown",
   "id": "be7fbf19-9a72-4da0-af76-ec9908be5bc3",
   "metadata": {},
   "source": [
    "Write a Python program that checks whether a given number is prime or not. A prime number is a natural number greater than 1 that has no positive divisors other than 1 and itself."
   ]
  },
  {
   "cell_type": "code",
   "execution_count": 1,
   "id": "b83f98a2-0c02-45bf-9aa6-dddec5863d57",
   "metadata": {},
   "outputs": [
    {
     "name": "stdin",
     "output_type": "stream",
     "text": [
      "Enter a number: 5\n"
     ]
    },
    {
     "name": "stdout",
     "output_type": "stream",
     "text": [
      "5 is a prime number\n"
     ]
    }
   ],
   "source": [
    "Num = int(input(\"Enter a number:\"))\n",
    "if Num>1:\n",
    "  for i in range(2,Num):\n",
    "    if(Num % 2==0):\n",
    "      print(Num,\"is not a prime number\")\n",
    "      break\n",
    "  else:\n",
    "    print(Num,\"is a prime number\")"
   ]
  },
  {
   "cell_type": "markdown",
   "id": "3666578b-e33f-40f7-bf64-751895780423",
   "metadata": {},
   "source": [
    "# Exercise 2: Product of Random Numbers"
   ]
  },
  {
   "cell_type": "markdown",
   "id": "9453e5ea-fac4-4a8d-a1ac-9d5af720fc24",
   "metadata": {},
   "source": [
    "Develop a Python program that generates two random numbers and asks the user to enter the product of these numbers. The program should then check if the user's answer is correct and display an appropriate message."
   ]
  },
  {
   "cell_type": "code",
   "execution_count": 3,
   "id": "be53e907-4c4d-4549-acdf-397d0f7ceae2",
   "metadata": {},
   "outputs": [
    {
     "name": "stdin",
     "output_type": "stream",
     "text": [
      "What is the product of 8 and 8?  64\n"
     ]
    },
    {
     "name": "stdout",
     "output_type": "stream",
     "text": [
      "Correct!\n"
     ]
    }
   ],
   "source": [
    "import random\n",
    "def check_product():\n",
    "    num1 = random.randint(1, 10)\n",
    "    num2 = random.randint(1, 10)\n",
    "    correct_product = num1 * num2\n",
    "    user_answer = int(input(f\"What is the product of {num1} and {num2}? \"))\n",
    "    if user_answer == correct_product:\n",
    "        print(\"Correct!\")\n",
    "    else:\n",
    "        print(\"Wrong! The correct answer is\",correct_product)\n",
    "check_product()"
   ]
  },
  {
   "cell_type": "markdown",
   "id": "2e029d67-2003-473e-b86a-2e7ee97f8020",
   "metadata": {},
   "source": [
    "# Exercise 3: Squares of Even/Odd Numbers"
   ]
  },
  {
   "cell_type": "markdown",
   "id": "b10c60cf-6aef-4130-9700-ce4d7f62e880",
   "metadata": {},
   "source": [
    "Create a Python script that prints the squares of all even or odd numbers within the range of 100 to 200. Choose either even or odd numbers and document your choice in the code."
   ]
  },
  {
   "cell_type": "code",
   "execution_count": 1,
   "id": "03324447-455e-4618-8d94-d93b6bbbad6c",
   "metadata": {},
   "outputs": [
    {
     "name": "stdout",
     "output_type": "stream",
     "text": [
      "The square of 100 is 10000\n",
      "The square of 102 is 10404\n",
      "The square of 104 is 10816\n",
      "The square of 106 is 11236\n",
      "The square of 108 is 11664\n",
      "The square of 110 is 12100\n",
      "The square of 112 is 12544\n",
      "The square of 114 is 12996\n",
      "The square of 116 is 13456\n",
      "The square of 118 is 13924\n",
      "The square of 120 is 14400\n",
      "The square of 122 is 14884\n",
      "The square of 124 is 15376\n",
      "The square of 126 is 15876\n",
      "The square of 128 is 16384\n",
      "The square of 130 is 16900\n",
      "The square of 132 is 17424\n",
      "The square of 134 is 17956\n",
      "The square of 136 is 18496\n",
      "The square of 138 is 19044\n",
      "The square of 140 is 19600\n",
      "The square of 142 is 20164\n",
      "The square of 144 is 20736\n",
      "The square of 146 is 21316\n",
      "The square of 148 is 21904\n",
      "The square of 150 is 22500\n",
      "The square of 152 is 23104\n",
      "The square of 154 is 23716\n",
      "The square of 156 is 24336\n",
      "The square of 158 is 24964\n",
      "The square of 160 is 25600\n",
      "The square of 162 is 26244\n",
      "The square of 164 is 26896\n",
      "The square of 166 is 27556\n",
      "The square of 168 is 28224\n",
      "The square of 170 is 28900\n",
      "The square of 172 is 29584\n",
      "The square of 174 is 30276\n",
      "The square of 176 is 30976\n",
      "The square of 178 is 31684\n",
      "The square of 180 is 32400\n",
      "The square of 182 is 33124\n",
      "The square of 184 is 33856\n",
      "The square of 186 is 34596\n",
      "The square of 188 is 35344\n",
      "The square of 190 is 36100\n",
      "The square of 192 is 36864\n",
      "The square of 194 is 37636\n",
      "The square of 196 is 38416\n",
      "The square of 198 is 39204\n",
      "The square of 200 is 40000\n"
     ]
    }
   ],
   "source": [
    "for num in range(100, 201):\n",
    "    if num % 2 == 0:\n",
    "        print('The square of',num,'is',num**2)"
   ]
  },
  {
   "cell_type": "markdown",
   "id": "d03438ec-c016-4f10-9696-297ea8daebdc",
   "metadata": {},
   "source": [
    "# Exercise 4: Word counter"
   ]
  },
  {
   "cell_type": "markdown",
   "id": "eec9fac5-034a-485c-81aa-b134d0854909",
   "metadata": {},
   "source": [
    "write a program to count the number of words in a given text."
   ]
  },
  {
   "cell_type": "code",
   "execution_count": 7,
   "id": "08fd1636-d27b-43ee-b08f-d14af820b779",
   "metadata": {},
   "outputs": [
    {
     "name": "stdout",
     "output_type": "stream",
     "text": [
      "This:2\n",
      "is:1\n",
      "a:1\n",
      "sample:1\n",
      "text.:1\n",
      "text:1\n",
      "will:1\n",
      "be:1\n",
      "used:1\n",
      "to:1\n",
      "demonstrate:1\n",
      "the:1\n",
      "word:1\n",
      "counter.:1\n"
     ]
    }
   ],
   "source": [
    "input_text = \"This is a sample text. This text will be used to demonstrate the word counter.\"\n",
    "words = input_text.split()\n",
    "word_count = {}\n",
    "for word in words:\n",
    "    if word in word_count:\n",
    "        word_count[word] += 1\n",
    "    else:\n",
    "        word_count[word] = 1\n",
    "for key,value in word_count.items():\n",
    "  print(f\"{key}:{value}\")"
   ]
  },
  {
   "attachments": {},
   "cell_type": "markdown",
   "id": "80ec6b57-34f6-411f-9fe6-771f5c656162",
   "metadata": {},
   "source": [
    "# Exercise 5: Check for Palindrome"
   ]
  },
  {
   "cell_type": "markdown",
   "id": "5c0831e7-6619-40b2-b266-1738d3a7c8a0",
   "metadata": {},
   "source": [
    "Write a Python function called is_palindrome that takes a string as input and returns True if the string is a palindrome, and False otherwise. A palindrome is a word, phrase, number, or other sequence of characters that reads the same forward and backward, ignoring spaces, punctuation, and capitalization."
   ]
  },
  {
   "cell_type": "code",
   "execution_count": 1,
   "id": "adf570dc-702a-4727-9735-84c0bd2dfad3",
   "metadata": {},
   "outputs": [
    {
     "name": "stdin",
     "output_type": "stream",
     "text": [
      "Enter the word:  Car\n"
     ]
    },
    {
     "name": "stdout",
     "output_type": "stream",
     "text": [
      "Car is not a palindrome\n"
     ]
    }
   ],
   "source": [
    "def is_palindrome(s):\n",
    "    return s  == s[::-1]\n",
    "\n",
    "input_word = input('Enter the word: ')\n",
    "\n",
    "if is_palindrome(input_word):\n",
    "    print(input_word, 'is a palindrome')\n",
    "else:\n",
    "    print(input_word,'is not a palindrome')"
   ]
  }
 ],
 "metadata": {
  "kernelspec": {
   "display_name": "Python 3 (ipykernel)",
   "language": "python",
   "name": "python3"
  },
  "language_info": {
   "codemirror_mode": {
    "name": "ipython",
    "version": 3
   },
   "file_extension": ".py",
   "mimetype": "text/x-python",
   "name": "python",
   "nbconvert_exporter": "python",
   "pygments_lexer": "ipython3",
   "version": "3.12.4"
  }
 },
 "nbformat": 4,
 "nbformat_minor": 5
}

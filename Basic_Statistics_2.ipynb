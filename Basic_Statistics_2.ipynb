{
 "cells": [
  {
   "cell_type": "markdown",
   "id": "259ce89b-229a-41e1-b9d7-a0d316d454c0",
   "metadata": {},
   "source": [
    "# Estimation and Confidence Intervals"
   ]
  },
  {
   "cell_type": "markdown",
   "id": "78b708de-a928-43ee-aa3b-89e722c3170a",
   "metadata": {},
   "source": [
    "a. Build 99% Confidence Interval Using Sample Standard Deviation"
   ]
  },
  {
   "cell_type": "code",
   "execution_count": 3,
   "id": "76b57490-7ad9-4ad2-9ade-fc665d619b13",
   "metadata": {},
   "outputs": [],
   "source": [
    "import pandas as pd\n",
    "import numpy as np\n",
    "import scipy.stats as stats\n",
    "import math"
   ]
  },
  {
   "cell_type": "code",
   "execution_count": 5,
   "id": "313fde9e-7a54-4bfe-8869-3694e4983110",
   "metadata": {},
   "outputs": [
    {
     "data": {
      "text/html": [
       "<div>\n",
       "<style scoped>\n",
       "    .dataframe tbody tr th:only-of-type {\n",
       "        vertical-align: middle;\n",
       "    }\n",
       "\n",
       "    .dataframe tbody tr th {\n",
       "        vertical-align: top;\n",
       "    }\n",
       "\n",
       "    .dataframe thead th {\n",
       "        text-align: right;\n",
       "    }\n",
       "</style>\n",
       "<table border=\"1\" class=\"dataframe\">\n",
       "  <thead>\n",
       "    <tr style=\"text-align: right;\">\n",
       "      <th></th>\n",
       "      <th>0</th>\n",
       "    </tr>\n",
       "  </thead>\n",
       "  <tbody>\n",
       "    <tr>\n",
       "      <th>0</th>\n",
       "      <td>1.13</td>\n",
       "    </tr>\n",
       "    <tr>\n",
       "      <th>1</th>\n",
       "      <td>1.55</td>\n",
       "    </tr>\n",
       "    <tr>\n",
       "      <th>2</th>\n",
       "      <td>1.43</td>\n",
       "    </tr>\n",
       "    <tr>\n",
       "      <th>3</th>\n",
       "      <td>0.92</td>\n",
       "    </tr>\n",
       "    <tr>\n",
       "      <th>4</th>\n",
       "      <td>1.25</td>\n",
       "    </tr>\n",
       "    <tr>\n",
       "      <th>5</th>\n",
       "      <td>1.36</td>\n",
       "    </tr>\n",
       "    <tr>\n",
       "      <th>6</th>\n",
       "      <td>1.32</td>\n",
       "    </tr>\n",
       "    <tr>\n",
       "      <th>7</th>\n",
       "      <td>0.85</td>\n",
       "    </tr>\n",
       "    <tr>\n",
       "      <th>8</th>\n",
       "      <td>1.07</td>\n",
       "    </tr>\n",
       "    <tr>\n",
       "      <th>9</th>\n",
       "      <td>1.48</td>\n",
       "    </tr>\n",
       "    <tr>\n",
       "      <th>10</th>\n",
       "      <td>1.20</td>\n",
       "    </tr>\n",
       "    <tr>\n",
       "      <th>11</th>\n",
       "      <td>1.33</td>\n",
       "    </tr>\n",
       "    <tr>\n",
       "      <th>12</th>\n",
       "      <td>1.18</td>\n",
       "    </tr>\n",
       "    <tr>\n",
       "      <th>13</th>\n",
       "      <td>1.22</td>\n",
       "    </tr>\n",
       "    <tr>\n",
       "      <th>14</th>\n",
       "      <td>1.29</td>\n",
       "    </tr>\n",
       "  </tbody>\n",
       "</table>\n",
       "</div>"
      ],
      "text/plain": [
       "       0\n",
       "0   1.13\n",
       "1   1.55\n",
       "2   1.43\n",
       "3   0.92\n",
       "4   1.25\n",
       "5   1.36\n",
       "6   1.32\n",
       "7   0.85\n",
       "8   1.07\n",
       "9   1.48\n",
       "10  1.20\n",
       "11  1.33\n",
       "12  1.18\n",
       "13  1.22\n",
       "14  1.29"
      ]
     },
     "execution_count": 5,
     "metadata": {},
     "output_type": "execute_result"
    }
   ],
   "source": [
    "data=(1.13, 1.55, 1.43, 0.92, 1.25, 1.36, 1.32, 0.85, 1.07, 1.48, 1.20, 1.33, 1.18, 1.22, 1.29)\n",
    "sample=pd.DataFrame(data)\n",
    "sample"
   ]
  },
  {
   "cell_type": "code",
   "execution_count": 7,
   "id": "fffc07e4-bdb4-43a5-ab48-29d141a5792a",
   "metadata": {},
   "outputs": [
    {
     "data": {
      "text/plain": [
       "15"
      ]
     },
     "execution_count": 7,
     "metadata": {},
     "output_type": "execute_result"
    }
   ],
   "source": [
    "# The total length of sample\n",
    "len(sample)"
   ]
  },
  {
   "cell_type": "code",
   "execution_count": 11,
   "id": "fd0e90f0-05ca-4fef-b8d3-f12a8cf578e3",
   "metadata": {},
   "outputs": [
    {
     "name": "stdout",
     "output_type": "stream",
     "text": [
      "The mean of the sample is 0    1.238667\n",
      "dtype: float64\n",
      "The standard deviation of the sample is 0    0.193164\n",
      "dtype: float64\n",
      "The t critical value is 0.8305115360195403\n",
      "\n",
      "The 99% confidence interval is (0    1.197245\n",
      "dtype: float64, 0    1.280088\n",
      "dtype: float64)\n",
      "\n"
     ]
    }
   ],
   "source": [
    "sample_mean=sample.mean()\n",
    "print('The mean of the sample is',sample_mean)\n",
    "\n",
    "sample_std=sample.std()\n",
    "print('The standard deviation of the sample is',sample_std)\n",
    "\n",
    "t_critical=stats.t.cdf(x=0.99, df=14)\n",
    "print('The t critical value is',t_critical)\n",
    "print()\n",
    "\n",
    "margin_of_error=t_critical * (sample.std()/np.sqrt(len(sample)))\n",
    "\n",
    "confidence_interval=(sample_mean - margin_of_error,\n",
    "                    sample_mean + margin_of_error)\n",
    "\n",
    "print('The 99% confidence interval is',confidence_interval)\n",
    "print()"
   ]
  },
  {
   "cell_type": "markdown",
   "id": "391f411c-7407-42e8-b561-ff335c534d6d",
   "metadata": {},
   "source": [
    "# Here t distribution is used because sample size is smaller and population standard deviation is not given."
   ]
  },
  {
   "cell_type": "markdown",
   "id": "e102b61b-9603-4779-a565-f1e8511d530a",
   "metadata": {},
   "source": [
    "b. Build 99% Confidence Interval Using Known Population Standard Deviation"
   ]
  },
  {
   "cell_type": "code",
   "execution_count": 19,
   "id": "bcb22ada-3c1b-4dda-84bc-ef61db93cf52",
   "metadata": {},
   "outputs": [
    {
     "data": {
      "text/html": [
       "<div>\n",
       "<style scoped>\n",
       "    .dataframe tbody tr th:only-of-type {\n",
       "        vertical-align: middle;\n",
       "    }\n",
       "\n",
       "    .dataframe tbody tr th {\n",
       "        vertical-align: top;\n",
       "    }\n",
       "\n",
       "    .dataframe thead th {\n",
       "        text-align: right;\n",
       "    }\n",
       "</style>\n",
       "<table border=\"1\" class=\"dataframe\">\n",
       "  <thead>\n",
       "    <tr style=\"text-align: right;\">\n",
       "      <th></th>\n",
       "      <th>0</th>\n",
       "    </tr>\n",
       "  </thead>\n",
       "  <tbody>\n",
       "    <tr>\n",
       "      <th>0</th>\n",
       "      <td>1.13</td>\n",
       "    </tr>\n",
       "    <tr>\n",
       "      <th>1</th>\n",
       "      <td>1.55</td>\n",
       "    </tr>\n",
       "    <tr>\n",
       "      <th>2</th>\n",
       "      <td>1.43</td>\n",
       "    </tr>\n",
       "    <tr>\n",
       "      <th>3</th>\n",
       "      <td>0.92</td>\n",
       "    </tr>\n",
       "    <tr>\n",
       "      <th>4</th>\n",
       "      <td>1.25</td>\n",
       "    </tr>\n",
       "    <tr>\n",
       "      <th>5</th>\n",
       "      <td>1.36</td>\n",
       "    </tr>\n",
       "    <tr>\n",
       "      <th>6</th>\n",
       "      <td>1.32</td>\n",
       "    </tr>\n",
       "    <tr>\n",
       "      <th>7</th>\n",
       "      <td>0.85</td>\n",
       "    </tr>\n",
       "    <tr>\n",
       "      <th>8</th>\n",
       "      <td>1.07</td>\n",
       "    </tr>\n",
       "    <tr>\n",
       "      <th>9</th>\n",
       "      <td>1.48</td>\n",
       "    </tr>\n",
       "    <tr>\n",
       "      <th>10</th>\n",
       "      <td>1.20</td>\n",
       "    </tr>\n",
       "    <tr>\n",
       "      <th>11</th>\n",
       "      <td>1.33</td>\n",
       "    </tr>\n",
       "    <tr>\n",
       "      <th>12</th>\n",
       "      <td>1.18</td>\n",
       "    </tr>\n",
       "    <tr>\n",
       "      <th>13</th>\n",
       "      <td>1.22</td>\n",
       "    </tr>\n",
       "    <tr>\n",
       "      <th>14</th>\n",
       "      <td>1.29</td>\n",
       "    </tr>\n",
       "  </tbody>\n",
       "</table>\n",
       "</div>"
      ],
      "text/plain": [
       "       0\n",
       "0   1.13\n",
       "1   1.55\n",
       "2   1.43\n",
       "3   0.92\n",
       "4   1.25\n",
       "5   1.36\n",
       "6   1.32\n",
       "7   0.85\n",
       "8   1.07\n",
       "9   1.48\n",
       "10  1.20\n",
       "11  1.33\n",
       "12  1.18\n",
       "13  1.22\n",
       "14  1.29"
      ]
     },
     "execution_count": 19,
     "metadata": {},
     "output_type": "execute_result"
    }
   ],
   "source": [
    "sample"
   ]
  },
  {
   "cell_type": "code",
   "execution_count": 23,
   "id": "9b365a6b-df43-4aec-934d-2dd80ccf9f4a",
   "metadata": {},
   "outputs": [
    {
     "name": "stdout",
     "output_type": "stream",
     "text": [
      "The sample mean is 0    1.238667\n",
      "dtype: float64\n",
      "The z critical value is 0.8389129404891691\n",
      "\n",
      "The 99% confidence interval is (0    1.195345\n",
      "dtype: float64, 0    1.281988\n",
      "dtype: float64)\n",
      "\n"
     ]
    }
   ],
   "source": [
    "sample_mean=sample.mean()\n",
    "print('The sample mean is',sample_mean)\n",
    "\n",
    "z_critical = stats.norm.cdf(x=0.99)\n",
    "print('The z critical value is',z_critcal)\n",
    "print()\n",
    "\n",
    "pop_stdev=0.2 # Given population standard deviation\n",
    "\n",
    "margin_of_error = z_critical * (pop_stdev/math.sqrt(len(sample)))\n",
    "\n",
    "confidence_interval = (sample_mean - margin_of_error,\n",
    "                      sample_mean + margin_of_error)\n",
    "\n",
    "print('The 99% confidence interval is',confidence_interval)\n",
    "print()"
   ]
  }
 ],
 "metadata": {
  "kernelspec": {
   "display_name": "Python 3 (ipykernel)",
   "language": "python",
   "name": "python3"
  },
  "language_info": {
   "codemirror_mode": {
    "name": "ipython",
    "version": 3
   },
   "file_extension": ".py",
   "mimetype": "text/x-python",
   "name": "python",
   "nbconvert_exporter": "python",
   "pygments_lexer": "ipython3",
   "version": "3.12.4"
  }
 },
 "nbformat": 4,
 "nbformat_minor": 5
}
